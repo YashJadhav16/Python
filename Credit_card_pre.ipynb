{
  "nbformat": 4,
  "nbformat_minor": 0,
  "metadata": {
    "colab": {
      "provenance": [],
      "authorship_tag": "ABX9TyNBKqfK038Ox3nJv6O+Rcy5",
      "include_colab_link": true
    },
    "kernelspec": {
      "name": "python3",
      "display_name": "Python 3"
    },
    "language_info": {
      "name": "python"
    }
  },
  "cells": [
    {
      "cell_type": "markdown",
      "metadata": {
        "id": "view-in-github",
        "colab_type": "text"
      },
      "source": [
        "<a href=\"https://colab.research.google.com/github/YashJadhav16/Python/blob/Python/Credit_card_pre.ipynb\" target=\"_parent\"><img src=\"https://colab.research.google.com/assets/colab-badge.svg\" alt=\"Open In Colab\"/></a>"
      ]
    },
    {
      "cell_type": "code",
      "execution_count": 21,
      "metadata": {
        "id": "lsVO3j4jkjGB"
      },
      "outputs": [],
      "source": [
        "import pandas as pd\n",
        "df = pd.read_csv('https://github.com/YBI-Foundation/Dataset/raw/main/Credit%20Default.csv')"
      ]
    },
    {
      "cell_type": "code",
      "source": [
        "df.head()\n",
        "df.info()\n",
        "df.describe()"
      ],
      "metadata": {
        "id": "Hg53Q4aUl58H"
      },
      "execution_count": null,
      "outputs": []
    },
    {
      "cell_type": "code",
      "source": [
        "#default['Default'].value_counts()\n",
        "df.columns\n",
        "y = default['Loan']\n",
        "X = default[['Default','Income','Age']]"
      ],
      "metadata": {
        "id": "Tq_iizUhl9vb"
      },
      "execution_count": 8,
      "outputs": []
    },
    {
      "cell_type": "code",
      "source": [
        "from sklearn.model_selection import train_test_split\n",
        "X_train, X_test, y_train, y_test = train_test_split(X,y, train_size=0.7, random_state=2529)\n",
        "#X_train.shape, X_test.shape, y_train.shape, y_test.shape"
      ],
      "metadata": {
        "id": "tO51ejqwmBFJ"
      },
      "execution_count": 9,
      "outputs": []
    },
    {
      "cell_type": "code",
      "source": [
        "from sklearn.linear_model import LinearRegression\n",
        "model = LinearRegression()\n",
        "model.fit(X_train,y_train)"
      ],
      "metadata": {
        "id": "W5p-HJ2_mMxS"
      },
      "execution_count": null,
      "outputs": []
    },
    {
      "cell_type": "code",
      "source": [
        "#model.intercept_\n",
        "#model.coef_\n",
        "y_pred = model.predict(X_test)\n",
        "y_pred"
      ],
      "metadata": {
        "id": "rsXOoiK4mP52"
      },
      "execution_count": null,
      "outputs": []
    },
    {
      "cell_type": "code",
      "source": [
        "from sklearn.metrics import accuracy_score\n",
        "#confusion_matrix(y_test,y_pred)\n",
        "#accuracy_score(y_test,y_pred)\n",
        "#print(accuracy_score(y_test,y_pred))\n",
        "from sklearn.metrics import mean_squared_error, r2_score\n",
        "# Use metrics appropriate for regression\n",
        "mse = mean_squared_error(y_test, y_pred)\n",
        "r2 = r2_score(y_test,y_pred)\n",
        "print(f\"Mean Squared Error: {mse}\")\n",
        "print(f\"R-squared: {r2}\")\n",
        "for Loan in y_pred:\n",
        "  print(Loan)"
      ],
      "metadata": {
        "id": "IJRGflGBmWNM"
      },
      "execution_count": null,
      "outputs": []
    }
  ]
}